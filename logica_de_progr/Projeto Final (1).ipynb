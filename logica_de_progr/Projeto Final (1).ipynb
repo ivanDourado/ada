{
 "cells": [
  {
   "cell_type": "markdown",
   "metadata": {
    "id": "2teYjmY3e102"
   },
   "source": [
    "# Sistema de Cadastro\n",
    "\n",
    "Tua missão é construir um sistema de cadastro de pessoas. Ele precisará atender aos seguintes requisitos:\n",
    "\n",
    "\n",
    "## Menu principal\n",
    "Ao iniciar o programa o seguinte menu deve ser imprimido:\n",
    "\n",
    "```\n",
    "Boas vindas ao nosso sistema:\n",
    "\n",
    "1 - Inserir usuário\n",
    "2 - Excluir usuário\n",
    "3 - Atualizar usuário\n",
    "4 - Informações de um usuário\n",
    "5 - Informações de todos os usuários\n",
    "6 - Sair\n",
    "\n",
    "```\n",
    "\n",
    "### 1 - Inserir usuário\n",
    "Você deverá receber as seguintes informações: _nome_, _tefone_ e _endereço_.\n",
    "\n",
    "Detalhes... Em sistemas de cadastro é convencionado adicionar automaticamente as seguintes informações:\n",
    "- _id_: um número inteiro aleatório ou incremental que identifica um usuário (o id não pode se repetir);\n",
    "- _status_: um valor booleano que indica se o usuário está ativo ao não. Por padrão esse valor é True\n",
    "\n",
    "### 2 - Excluir usuário\n",
    "Bem aqui vamos usar o _id_ e o _status_. Em sistemas em produção é evitado ao máximo a aplicação de delete, remove ou qualquer outra função que apague em definitivo um dado. \n",
    "\n",
    "Para isso usamos o que é chamado de _Exclusão Lógica_. Que em síntese muda o _status_ do usuário de True para False.\n",
    "\n",
    "Você receberá do usuário o _id_ de um outro usuário dentro da base, e por fim vai alterar o valor do _status_ de True para False.\n",
    "\n",
    "Caso o _id_ digitado não estiver dentro da base imprima uma mensagem de erro e peça novamente o _id_. Exemplo:\n",
    "```\n",
    "Usuário não encontrado!\n",
    "\n",
    "Insira o ID do usuário:\n",
    "```\n",
    "\n",
    "### 3 - Atualizar usuário\n",
    "Ao selecionar essa opção você deverá pedir o _id_ de um usuário:\n",
    "\n",
    "```\n",
    "Insira o ID do usuário:\n",
    "```\n",
    "\n",
    "Caso o _id_ digitado não estiver dentro da base imprima uma mensagem de erro e peça novamente o _id_. Exemplo:\n",
    "```\n",
    "Usuário não encontrado!\n",
    "\n",
    "Insira o ID do usuário:\n",
    "```\n",
    "\n",
    "Ao inseri um _id_ correto imprima o seguinte sub menu:\n",
    "```\n",
    "Qual informação deseja alterar?\n",
    "1 - Nome\n",
    "2 - Tefone\n",
    "3 - Endereço\n",
    "```\n",
    "E ao escolher a opção peça a nova informação da seguinte forma:\n",
    "\n",
    "```\n",
    "1\n",
    "Insira o nome:\n",
    "```\n",
    "\n",
    "\n",
    "\n",
    "## 4 - Exibir informações de um usuário\n",
    "Ao selecionar essa opção imprima o seguinte sub menu:\n",
    "```\n",
    "4\n",
    "Insira o ID do usuário:\n",
    "```\n",
    "\n",
    "E deverá ser inserido o _id_ do usuário que deseja imprimir.\n",
    "Se o _id_ inserido não for encontrado na base imprima uma mensagem de erro e peça o _id_ novamente. Exemplo:\n",
    "```\n",
    "Usuário não encontrado!\n",
    "\n",
    "Insira o ID do usuário:\n",
    "```\n",
    "\n",
    "No momento que inserir um ID válido imprimir:\n",
    "\n",
    "```\n",
    "Nome: Davi Nascimento\n",
    "Tefone: 2345678\n",
    "Endereço: Rua Boa\n",
    "```\n",
    "\n",
    "### 5 - Informações de todos os usuários\n",
    "Ao selecionar essa opção imprima as informações de todos os usuários\n",
    "\n",
    "```\n",
    "ID: 1\n",
    "Nome: Davi Nascimento\n",
    "Tefone: 2345678\n",
    "Endereço: Rua Boa\n",
    "\n",
    "ID: 2\n",
    "Nome: Alex Lima\n",
    "Tefone: 2345678\n",
    "Endereço: Rua Top\n",
    "\n",
    "ID: 3\n",
    "Nome: Ivisson Cesar\n",
    "Tefone: 2345678\n",
    "Endereço: MAIOBÃO\n",
    "```\n",
    "\n",
    "### 6 - Sair\n",
    "\n",
    "Encerre o programa.\n",
    "\n",
    "\n",
    "## Observações\n",
    "- A cada vez que você encerrar uma operação do programa imprima novamente o menu principal.\n",
    "- O sistema deverá iniciar com uma lista predefinida de CINCO (5) usuários . Ou seja, o programa não começará do zero, já deve iniciar com usuários no sistema.\n",
    "- Usem somente estruturas e técnicas que vimos nas aulas"
   ]
  },
  {
   "cell_type": "code",
   "execution_count": null,
   "metadata": {
    "ExecuteTime": {
     "end_time": "2022-10-11T00:58:04.741182Z",
     "start_time": "2022-10-11T00:57:03.891688Z"
    },
    "colab": {
     "base_uri": "https://localhost:8080/",
     "height": 1000
    },
    "id": "xkqbVeCzmQAj",
    "outputId": "4f42303c-020b-4f6c-eaf0-4a4adadffaa2"
   },
   "outputs": [],
   "source": [
    "menu_str = \"\"\"\n",
    "\\nBoas vindas ao nosso sistema:\n",
    "\n",
    "1 - Inserir usuário\n",
    "2 - Excluir usuário\n",
    "3 - Atualizar usuário\n",
    "4 - Informações de um usuário\n",
    "5 - Informações de todos os usuários\n",
    "6 - Sair\\n\n",
    "\"\"\"\n",
    "\n",
    "sub_menu = \"\"\"\n",
    "\\nQual informação deseja alterar?\n",
    "1 - Nome\n",
    "2 - Tefone\n",
    "3 - Endereço\n",
    "\\n\n",
    "\"\"\"\n",
    "\n",
    "\n",
    "users = [\n",
    "    [1,\"Ciclano Sauro\",2345678,\"Rua Boa\",True],\n",
    "    [2,\"Fulano Silva\",3478358235,\"Rua Top\",True],\n",
    "    [3,\"John Doe\",3853385267,\"MAIOBÃO\",True]\n",
    "]"
   ]
  }
 ],
 "metadata": {
  "colab": {
   "provenance": []
  },
  "kernelspec": {
   "display_name": "Python 3",
   "language": "python",
   "name": "python3"
  },
  "language_info": {
   "codemirror_mode": {
    "name": "ipython",
    "version": 3
   },
   "file_extension": ".py",
   "mimetype": "text/x-python",
   "name": "python",
   "nbconvert_exporter": "python",
   "pygments_lexer": "ipython3",
   "version": "3.10.6 (main, Nov 14 2022, 16:10:14) [GCC 11.3.0]"
  },
  "latex_envs": {
   "LaTeX_envs_menu_present": true,
   "autoclose": false,
   "autocomplete": true,
   "bibliofile": "biblio.bib",
   "cite_by": "apalike",
   "current_citInitial": 1,
   "eqLabelWithNumbers": true,
   "eqNumInitial": 1,
   "hotkeys": {
    "equation": "Ctrl-E",
    "itemize": "Ctrl-I"
   },
   "labels_anchors": false,
   "latex_user_defs": false,
   "report_style_numbering": false,
   "user_envs_cfg": false
  },
  "toc": {
   "base_numbering": 1,
   "nav_menu": {},
   "number_sections": true,
   "sideBar": true,
   "skip_h1_title": false,
   "title_cell": "Table of Contents",
   "title_sidebar": "Contents",
   "toc_cell": false,
   "toc_position": {},
   "toc_section_display": true,
   "toc_window_display": false
  },
  "varInspector": {
   "cols": {
    "lenName": 16,
    "lenType": 16,
    "lenVar": 40
   },
   "kernels_config": {
    "python": {
     "delete_cmd_postfix": "",
     "delete_cmd_prefix": "del ",
     "library": "var_list.py",
     "varRefreshCmd": "print(var_dic_list())"
    },
    "r": {
     "delete_cmd_postfix": ") ",
     "delete_cmd_prefix": "rm(",
     "library": "var_list.r",
     "varRefreshCmd": "cat(var_dic_list()) "
    }
   },
   "types_to_exclude": [
    "module",
    "function",
    "builtin_function_or_method",
    "instance",
    "_Feature"
   ],
   "window_display": false
  },
  "vscode": {
   "interpreter": {
    "hash": "916dbcbb3f70747c44a77c7bcd40155683ae19c65e1c03b4aa3499c5328201f1"
   }
  }
 },
 "nbformat": 4,
 "nbformat_minor": 1
}
